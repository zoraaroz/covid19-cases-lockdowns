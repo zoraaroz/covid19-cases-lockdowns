{
 "cells": [
  {
   "cell_type": "markdown",
   "id": "periodic-turkey",
   "metadata": {},
   "source": [
    "# Covid-19: Comparing cases and lockdowns in Berlin and Zurich"
   ]
  },
  {
   "cell_type": "markdown",
   "id": "gothic-strategy",
   "metadata": {},
   "source": [
    "## 1. Data acquistion and wrangling"
   ]
  },
  {
   "cell_type": "code",
   "execution_count": 1,
   "id": "palestinian-insertion",
   "metadata": {},
   "outputs": [],
   "source": [
    "import numpy as np\n",
    "import pandas as pd\n",
    "import matplotlib.pyplot as plt\n",
    "import seaborn as sns\n",
    "%matplotlib inline"
   ]
  },
  {
   "cell_type": "code",
   "execution_count": 2,
   "id": "unique-yesterday",
   "metadata": {},
   "outputs": [],
   "source": [
    "# import csv files\n",
    "cases_de = pd.read_csv('covid_cases_de.csv')\n",
    "cases_zh_raw = pd.read_csv('covid_cases_zh.csv')\n",
    "vacc_global = pd.read_csv('covid_vaccinations_global.csv')\n",
    "lockdowns = pd.read_csv('lockdowns.csv')"
   ]
  },
  {
   "cell_type": "markdown",
   "id": "noted-panama",
   "metadata": {},
   "source": [
    "### Berlin data"
   ]
  },
  {
   "cell_type": "code",
   "execution_count": 3,
   "id": "black-calibration",
   "metadata": {},
   "outputs": [
    {
     "data": {
      "text/html": [
       "<div>\n",
       "<style scoped>\n",
       "    .dataframe tbody tr th:only-of-type {\n",
       "        vertical-align: middle;\n",
       "    }\n",
       "\n",
       "    .dataframe tbody tr th {\n",
       "        vertical-align: top;\n",
       "    }\n",
       "\n",
       "    .dataframe thead th {\n",
       "        text-align: right;\n",
       "    }\n",
       "</style>\n",
       "<table border=\"1\" class=\"dataframe\">\n",
       "  <thead>\n",
       "    <tr style=\"text-align: right;\">\n",
       "      <th></th>\n",
       "      <th>state</th>\n",
       "      <th>county</th>\n",
       "      <th>age_group</th>\n",
       "      <th>gender</th>\n",
       "      <th>date</th>\n",
       "      <th>cases</th>\n",
       "      <th>deaths</th>\n",
       "      <th>recovered</th>\n",
       "    </tr>\n",
       "  </thead>\n",
       "  <tbody>\n",
       "    <tr>\n",
       "      <th>0</th>\n",
       "      <td>Baden-Wuerttemberg</td>\n",
       "      <td>LK Alb-Donau-Kreis</td>\n",
       "      <td>00-04</td>\n",
       "      <td>F</td>\n",
       "      <td>2020-03-27</td>\n",
       "      <td>1</td>\n",
       "      <td>0</td>\n",
       "      <td>1</td>\n",
       "    </tr>\n",
       "    <tr>\n",
       "      <th>1</th>\n",
       "      <td>Baden-Wuerttemberg</td>\n",
       "      <td>LK Alb-Donau-Kreis</td>\n",
       "      <td>00-04</td>\n",
       "      <td>F</td>\n",
       "      <td>2020-03-28</td>\n",
       "      <td>1</td>\n",
       "      <td>0</td>\n",
       "      <td>1</td>\n",
       "    </tr>\n",
       "    <tr>\n",
       "      <th>2</th>\n",
       "      <td>Baden-Wuerttemberg</td>\n",
       "      <td>LK Alb-Donau-Kreis</td>\n",
       "      <td>00-04</td>\n",
       "      <td>F</td>\n",
       "      <td>2020-04-03</td>\n",
       "      <td>1</td>\n",
       "      <td>0</td>\n",
       "      <td>1</td>\n",
       "    </tr>\n",
       "    <tr>\n",
       "      <th>3</th>\n",
       "      <td>Baden-Wuerttemberg</td>\n",
       "      <td>LK Alb-Donau-Kreis</td>\n",
       "      <td>00-04</td>\n",
       "      <td>F</td>\n",
       "      <td>2020-10-18</td>\n",
       "      <td>1</td>\n",
       "      <td>0</td>\n",
       "      <td>1</td>\n",
       "    </tr>\n",
       "    <tr>\n",
       "      <th>4</th>\n",
       "      <td>Baden-Wuerttemberg</td>\n",
       "      <td>LK Alb-Donau-Kreis</td>\n",
       "      <td>00-04</td>\n",
       "      <td>F</td>\n",
       "      <td>2020-10-22</td>\n",
       "      <td>1</td>\n",
       "      <td>0</td>\n",
       "      <td>1</td>\n",
       "    </tr>\n",
       "  </tbody>\n",
       "</table>\n",
       "</div>"
      ],
      "text/plain": [
       "                state              county age_group gender        date  cases  \\\n",
       "0  Baden-Wuerttemberg  LK Alb-Donau-Kreis     00-04      F  2020-03-27      1   \n",
       "1  Baden-Wuerttemberg  LK Alb-Donau-Kreis     00-04      F  2020-03-28      1   \n",
       "2  Baden-Wuerttemberg  LK Alb-Donau-Kreis     00-04      F  2020-04-03      1   \n",
       "3  Baden-Wuerttemberg  LK Alb-Donau-Kreis     00-04      F  2020-10-18      1   \n",
       "4  Baden-Wuerttemberg  LK Alb-Donau-Kreis     00-04      F  2020-10-22      1   \n",
       "\n",
       "   deaths  recovered  \n",
       "0       0          1  \n",
       "1       0          1  \n",
       "2       0          1  \n",
       "3       0          1  \n",
       "4       0          1  "
      ]
     },
     "execution_count": 3,
     "metadata": {},
     "output_type": "execute_result"
    }
   ],
   "source": [
    "cases_de.head()"
   ]
  },
  {
   "cell_type": "code",
   "execution_count": 4,
   "id": "narrative-ensemble",
   "metadata": {},
   "outputs": [
    {
     "data": {
      "text/plain": [
       "state        False\n",
       "county       False\n",
       "age_group     True\n",
       "gender        True\n",
       "date         False\n",
       "cases        False\n",
       "deaths       False\n",
       "recovered    False\n",
       "dtype: bool"
      ]
     },
     "execution_count": 4,
     "metadata": {},
     "output_type": "execute_result"
    }
   ],
   "source": [
    "# check for misisng values\n",
    "cases_de.isnull().any()"
   ]
  },
  {
   "cell_type": "code",
   "execution_count": 5,
   "id": "electrical-diameter",
   "metadata": {},
   "outputs": [
    {
     "data": {
      "text/html": [
       "<div>\n",
       "<style scoped>\n",
       "    .dataframe tbody tr th:only-of-type {\n",
       "        vertical-align: middle;\n",
       "    }\n",
       "\n",
       "    .dataframe tbody tr th {\n",
       "        vertical-align: top;\n",
       "    }\n",
       "\n",
       "    .dataframe thead th {\n",
       "        text-align: right;\n",
       "    }\n",
       "</style>\n",
       "<table border=\"1\" class=\"dataframe\">\n",
       "  <thead>\n",
       "    <tr style=\"text-align: right;\">\n",
       "      <th></th>\n",
       "      <th>date</th>\n",
       "      <th>cases</th>\n",
       "      <th>deaths</th>\n",
       "      <th>recovered</th>\n",
       "    </tr>\n",
       "  </thead>\n",
       "  <tbody>\n",
       "    <tr>\n",
       "      <th>0</th>\n",
       "      <td>2020-01-19</td>\n",
       "      <td>1</td>\n",
       "      <td>0</td>\n",
       "      <td>1</td>\n",
       "    </tr>\n",
       "    <tr>\n",
       "      <th>1</th>\n",
       "      <td>2020-02-29</td>\n",
       "      <td>1</td>\n",
       "      <td>0</td>\n",
       "      <td>1</td>\n",
       "    </tr>\n",
       "    <tr>\n",
       "      <th>2</th>\n",
       "      <td>2020-03-03</td>\n",
       "      <td>6</td>\n",
       "      <td>0</td>\n",
       "      <td>6</td>\n",
       "    </tr>\n",
       "    <tr>\n",
       "      <th>3</th>\n",
       "      <td>2020-03-04</td>\n",
       "      <td>3</td>\n",
       "      <td>0</td>\n",
       "      <td>3</td>\n",
       "    </tr>\n",
       "    <tr>\n",
       "      <th>4</th>\n",
       "      <td>2020-03-05</td>\n",
       "      <td>10</td>\n",
       "      <td>0</td>\n",
       "      <td>10</td>\n",
       "    </tr>\n",
       "  </tbody>\n",
       "</table>\n",
       "</div>"
      ],
      "text/plain": [
       "         date  cases  deaths  recovered\n",
       "0  2020-01-19      1       0          1\n",
       "1  2020-02-29      1       0          1\n",
       "2  2020-03-03      6       0          6\n",
       "3  2020-03-04      3       0          3\n",
       "4  2020-03-05     10       0         10"
      ]
     },
     "execution_count": 5,
     "metadata": {},
     "output_type": "execute_result"
    }
   ],
   "source": [
    "# filter for Berlin data, group by date\n",
    "cases_be = cases_de[cases_de.state == 'Berlin'].groupby('date', as_index = False).sum()\n",
    "cases_be.head()"
   ]
  },
  {
   "cell_type": "code",
   "execution_count": 6,
   "id": "bacterial-martin",
   "metadata": {},
   "outputs": [
    {
     "data": {
      "text/plain": [
       "date         object\n",
       "cases         int64\n",
       "deaths        int64\n",
       "recovered     int64\n",
       "dtype: object"
      ]
     },
     "execution_count": 6,
     "metadata": {},
     "output_type": "execute_result"
    }
   ],
   "source": [
    "# check data types\n",
    "cases_be.dtypes"
   ]
  },
  {
   "cell_type": "code",
   "execution_count": 7,
   "id": "bottom-communications",
   "metadata": {},
   "outputs": [
    {
     "data": {
      "text/plain": [
       "date         datetime64[ns]\n",
       "cases                 int64\n",
       "deaths                int64\n",
       "recovered             int64\n",
       "dtype: object"
      ]
     },
     "execution_count": 7,
     "metadata": {},
     "output_type": "execute_result"
    }
   ],
   "source": [
    "# change data type of date column\n",
    "cases_be.date = pd.to_datetime(cases_be.date)\n",
    "# check data types\n",
    "cases_be.dtypes"
   ]
  },
  {
   "cell_type": "code",
   "execution_count": 8,
   "id": "prostate-reaction",
   "metadata": {},
   "outputs": [
    {
     "data": {
      "text/html": [
       "<div>\n",
       "<style scoped>\n",
       "    .dataframe tbody tr th:only-of-type {\n",
       "        vertical-align: middle;\n",
       "    }\n",
       "\n",
       "    .dataframe tbody tr th {\n",
       "        vertical-align: top;\n",
       "    }\n",
       "\n",
       "    .dataframe thead th {\n",
       "        text-align: right;\n",
       "    }\n",
       "</style>\n",
       "<table border=\"1\" class=\"dataframe\">\n",
       "  <thead>\n",
       "    <tr style=\"text-align: right;\">\n",
       "      <th></th>\n",
       "      <th>date</th>\n",
       "    </tr>\n",
       "  </thead>\n",
       "  <tbody>\n",
       "    <tr>\n",
       "      <th>0</th>\n",
       "      <td>NaT</td>\n",
       "    </tr>\n",
       "    <tr>\n",
       "      <th>1</th>\n",
       "      <td>41 days</td>\n",
       "    </tr>\n",
       "    <tr>\n",
       "      <th>2</th>\n",
       "      <td>3 days</td>\n",
       "    </tr>\n",
       "    <tr>\n",
       "      <th>140</th>\n",
       "      <td>2 days</td>\n",
       "    </tr>\n",
       "    <tr>\n",
       "      <th>153</th>\n",
       "      <td>2 days</td>\n",
       "    </tr>\n",
       "  </tbody>\n",
       "</table>\n",
       "</div>"
      ],
      "text/plain": [
       "       date\n",
       "0       NaT\n",
       "1   41 days\n",
       "2    3 days\n",
       "140  2 days\n",
       "153  2 days"
      ]
     },
     "execution_count": 8,
     "metadata": {},
     "output_type": "execute_result"
    }
   ],
   "source": [
    "# check if date is continuous\n",
    "date_diff = pd.DataFrame(cases_be.date.diff())\n",
    "date_diff[date_diff.date != '1 days']"
   ]
  },
  {
   "cell_type": "code",
   "execution_count": 9,
   "id": "sought-bosnia",
   "metadata": {},
   "outputs": [
    {
     "data": {
      "text/plain": [
       "139   2020-07-18\n",
       "140   2020-07-20\n",
       "152   2020-08-01\n",
       "153   2020-08-03\n",
       "Name: date, dtype: datetime64[ns]"
      ]
     },
     "execution_count": 9,
     "metadata": {},
     "output_type": "execute_result"
    }
   ],
   "source": [
    "cases_be.date.iloc[[139, 140, 152, 153]]"
   ]
  },
  {
   "cell_type": "code",
   "execution_count": 10,
   "id": "brilliant-feedback",
   "metadata": {},
   "outputs": [
    {
     "data": {
      "text/plain": [
       "139   2020-07-18\n",
       "0     2020-07-19\n",
       "140   2020-07-20\n",
       "141   2020-07-21\n",
       "142   2020-07-22\n",
       "143   2020-07-23\n",
       "144   2020-07-24\n",
       "145   2020-07-25\n",
       "146   2020-07-26\n",
       "147   2020-07-27\n",
       "148   2020-07-28\n",
       "149   2020-07-29\n",
       "150   2020-07-30\n",
       "151   2020-07-31\n",
       "152   2020-08-01\n",
       "0     2020-08-02\n",
       "Name: date, dtype: datetime64[ns]"
      ]
     },
     "execution_count": 10,
     "metadata": {},
     "output_type": "execute_result"
    }
   ],
   "source": [
    "# create data frame for missing dates\n",
    "missing_date = pd.DataFrame({'date': pd.Series('2020-07-19'), 'cases':  pd.Series(np.nan), 'deaths':  pd.Series(np.nan), 'recovered':  pd.Series(np.nan)})\n",
    "missing_date.date = pd.to_datetime(missing_date.date)\n",
    "cases_be = pd.concat([cases_be.iloc[:140], missing_date, cases_be.iloc[140:]])\n",
    "\n",
    "missing_date = pd.DataFrame({'date': pd.Series('2020-08-02'), 'cases':  pd.Series(np.nan), 'deaths':  pd.Series(np.nan), 'recovered':  pd.Series(np.nan)})\n",
    "missing_date.date = pd.to_datetime(missing_date.date)\n",
    "cases_be = pd.concat([cases_be.iloc[:154], missing_date, cases_be.iloc[154:]])\n",
    "\n",
    "cases_be.date.iloc[139:155]"
   ]
  },
  {
   "cell_type": "code",
   "execution_count": 11,
   "id": "needed-clause",
   "metadata": {},
   "outputs": [
    {
     "data": {
      "text/html": [
       "<div>\n",
       "<style scoped>\n",
       "    .dataframe tbody tr th:only-of-type {\n",
       "        vertical-align: middle;\n",
       "    }\n",
       "\n",
       "    .dataframe tbody tr th {\n",
       "        vertical-align: top;\n",
       "    }\n",
       "\n",
       "    .dataframe thead th {\n",
       "        text-align: right;\n",
       "    }\n",
       "</style>\n",
       "<table border=\"1\" class=\"dataframe\">\n",
       "  <thead>\n",
       "    <tr style=\"text-align: right;\">\n",
       "      <th></th>\n",
       "      <th>date</th>\n",
       "      <th>cases</th>\n",
       "      <th>deaths</th>\n",
       "      <th>recovered</th>\n",
       "    </tr>\n",
       "  </thead>\n",
       "  <tbody>\n",
       "    <tr>\n",
       "      <th>139</th>\n",
       "      <td>2020-07-18</td>\n",
       "      <td>19.0</td>\n",
       "      <td>0.0</td>\n",
       "      <td>19.0</td>\n",
       "    </tr>\n",
       "    <tr>\n",
       "      <th>0</th>\n",
       "      <td>2020-07-19</td>\n",
       "      <td>31.0</td>\n",
       "      <td>0.0</td>\n",
       "      <td>31.0</td>\n",
       "    </tr>\n",
       "    <tr>\n",
       "      <th>140</th>\n",
       "      <td>2020-07-20</td>\n",
       "      <td>31.0</td>\n",
       "      <td>0.0</td>\n",
       "      <td>31.0</td>\n",
       "    </tr>\n",
       "    <tr>\n",
       "      <th>141</th>\n",
       "      <td>2020-07-21</td>\n",
       "      <td>33.0</td>\n",
       "      <td>0.0</td>\n",
       "      <td>33.0</td>\n",
       "    </tr>\n",
       "    <tr>\n",
       "      <th>142</th>\n",
       "      <td>2020-07-22</td>\n",
       "      <td>27.0</td>\n",
       "      <td>0.0</td>\n",
       "      <td>27.0</td>\n",
       "    </tr>\n",
       "    <tr>\n",
       "      <th>143</th>\n",
       "      <td>2020-07-23</td>\n",
       "      <td>47.0</td>\n",
       "      <td>0.0</td>\n",
       "      <td>47.0</td>\n",
       "    </tr>\n",
       "    <tr>\n",
       "      <th>144</th>\n",
       "      <td>2020-07-24</td>\n",
       "      <td>61.0</td>\n",
       "      <td>0.0</td>\n",
       "      <td>61.0</td>\n",
       "    </tr>\n",
       "    <tr>\n",
       "      <th>145</th>\n",
       "      <td>2020-07-25</td>\n",
       "      <td>18.0</td>\n",
       "      <td>0.0</td>\n",
       "      <td>18.0</td>\n",
       "    </tr>\n",
       "    <tr>\n",
       "      <th>146</th>\n",
       "      <td>2020-07-26</td>\n",
       "      <td>3.0</td>\n",
       "      <td>0.0</td>\n",
       "      <td>3.0</td>\n",
       "    </tr>\n",
       "    <tr>\n",
       "      <th>147</th>\n",
       "      <td>2020-07-27</td>\n",
       "      <td>41.0</td>\n",
       "      <td>0.0</td>\n",
       "      <td>41.0</td>\n",
       "    </tr>\n",
       "    <tr>\n",
       "      <th>148</th>\n",
       "      <td>2020-07-28</td>\n",
       "      <td>64.0</td>\n",
       "      <td>0.0</td>\n",
       "      <td>64.0</td>\n",
       "    </tr>\n",
       "    <tr>\n",
       "      <th>149</th>\n",
       "      <td>2020-07-29</td>\n",
       "      <td>67.0</td>\n",
       "      <td>0.0</td>\n",
       "      <td>67.0</td>\n",
       "    </tr>\n",
       "    <tr>\n",
       "      <th>150</th>\n",
       "      <td>2020-07-30</td>\n",
       "      <td>49.0</td>\n",
       "      <td>0.0</td>\n",
       "      <td>49.0</td>\n",
       "    </tr>\n",
       "    <tr>\n",
       "      <th>151</th>\n",
       "      <td>2020-07-31</td>\n",
       "      <td>76.0</td>\n",
       "      <td>0.0</td>\n",
       "      <td>76.0</td>\n",
       "    </tr>\n",
       "    <tr>\n",
       "      <th>152</th>\n",
       "      <td>2020-08-01</td>\n",
       "      <td>34.0</td>\n",
       "      <td>0.0</td>\n",
       "      <td>34.0</td>\n",
       "    </tr>\n",
       "    <tr>\n",
       "      <th>0</th>\n",
       "      <td>2020-08-02</td>\n",
       "      <td>48.0</td>\n",
       "      <td>0.0</td>\n",
       "      <td>48.0</td>\n",
       "    </tr>\n",
       "  </tbody>\n",
       "</table>\n",
       "</div>"
      ],
      "text/plain": [
       "          date  cases  deaths  recovered\n",
       "139 2020-07-18   19.0     0.0       19.0\n",
       "0   2020-07-19   31.0     0.0       31.0\n",
       "140 2020-07-20   31.0     0.0       31.0\n",
       "141 2020-07-21   33.0     0.0       33.0\n",
       "142 2020-07-22   27.0     0.0       27.0\n",
       "143 2020-07-23   47.0     0.0       47.0\n",
       "144 2020-07-24   61.0     0.0       61.0\n",
       "145 2020-07-25   18.0     0.0       18.0\n",
       "146 2020-07-26    3.0     0.0        3.0\n",
       "147 2020-07-27   41.0     0.0       41.0\n",
       "148 2020-07-28   64.0     0.0       64.0\n",
       "149 2020-07-29   67.0     0.0       67.0\n",
       "150 2020-07-30   49.0     0.0       49.0\n",
       "151 2020-07-31   76.0     0.0       76.0\n",
       "152 2020-08-01   34.0     0.0       34.0\n",
       "0   2020-08-02   48.0     0.0       48.0"
      ]
     },
     "execution_count": 11,
     "metadata": {},
     "output_type": "execute_result"
    }
   ],
   "source": [
    "cases_be = cases_be.fillna(method = 'bfill', axis = 0)\n",
    "cases_be.iloc[139:155]"
   ]
  },
  {
   "cell_type": "code",
   "execution_count": 12,
   "id": "historical-color",
   "metadata": {},
   "outputs": [],
   "source": [
    "# calculate weekly rolling average for cases\n",
    "roll_av = cases_be.rolling(7).mean()\n",
    "cases_be = cases_be.assign(cases_av = roll_av['cases'])"
   ]
  },
  {
   "cell_type": "code",
   "execution_count": 13,
   "id": "inner-building",
   "metadata": {},
   "outputs": [],
   "source": [
    "# drop some dates to align with Zurich data\n",
    "cases_be = cases_be[(cases_be.date > '2020-03-08') & (cases_be.date < '2021-05-31')].reset_index()"
   ]
  },
  {
   "cell_type": "code",
   "execution_count": 14,
   "id": "impressed-probe",
   "metadata": {},
   "outputs": [
    {
     "data": {
      "image/png": "[encoded data removed]",
      "text/plain": [
       "<Figure size 432x288 with 1 Axes>"
      ]
     },
     "metadata": {
      "needs_background": "light"
     },
     "output_type": "display_data"
    }
   ],
   "source": [
    "plt.plot(cases_be.date,cases_be.cases_av);"
   ]
  },
  {
   "cell_type": "markdown",
   "id": "distant-pixel",
   "metadata": {},
   "source": [
    "### Zurich data"
   ]
  },
  {
   "cell_type": "code",
   "execution_count": 15,
   "id": "addressed-lincoln",
   "metadata": {},
   "outputs": [
    {
     "data": {
      "text/html": [
       "<div>\n",
       "<style scoped>\n",
       "    .dataframe tbody tr th:only-of-type {\n",
       "        vertical-align: middle;\n",
       "    }\n",
       "\n",
       "    .dataframe tbody tr th {\n",
       "        vertical-align: top;\n",
       "    }\n",
       "\n",
       "    .dataframe thead th {\n",
       "        text-align: right;\n",
       "    }\n",
       "</style>\n",
       "<table border=\"1\" class=\"dataframe\">\n",
       "  <thead>\n",
       "    <tr style=\"text-align: right;\">\n",
       "      <th></th>\n",
       "      <th>Week</th>\n",
       "      <th>Year</th>\n",
       "      <th>Area</th>\n",
       "      <th>AgeYearCat</th>\n",
       "      <th>Gender</th>\n",
       "      <th>NewConfCases</th>\n",
       "      <th>NewDeaths</th>\n",
       "      <th>Source</th>\n",
       "    </tr>\n",
       "  </thead>\n",
       "  <tbody>\n",
       "    <tr>\n",
       "      <th>0</th>\n",
       "      <td>9</td>\n",
       "      <td>2020</td>\n",
       "      <td>Canton_ZH</td>\n",
       "      <td>0-9</td>\n",
       "      <td>F</td>\n",
       "      <td>0</td>\n",
       "      <td>0</td>\n",
       "      <td>https://gd.zh.ch/internet/gesundheitsdirektion...</td>\n",
       "    </tr>\n",
       "    <tr>\n",
       "      <th>1</th>\n",
       "      <td>9</td>\n",
       "      <td>2020</td>\n",
       "      <td>Canton_ZH</td>\n",
       "      <td>0-9</td>\n",
       "      <td>M</td>\n",
       "      <td>0</td>\n",
       "      <td>0</td>\n",
       "      <td>https://gd.zh.ch/internet/gesundheitsdirektion...</td>\n",
       "    </tr>\n",
       "    <tr>\n",
       "      <th>2</th>\n",
       "      <td>9</td>\n",
       "      <td>2020</td>\n",
       "      <td>Canton_ZH</td>\n",
       "      <td>10-19</td>\n",
       "      <td>F</td>\n",
       "      <td>0</td>\n",
       "      <td>0</td>\n",
       "      <td>https://gd.zh.ch/internet/gesundheitsdirektion...</td>\n",
       "    </tr>\n",
       "    <tr>\n",
       "      <th>3</th>\n",
       "      <td>9</td>\n",
       "      <td>2020</td>\n",
       "      <td>Canton_ZH</td>\n",
       "      <td>10-19</td>\n",
       "      <td>M</td>\n",
       "      <td>0</td>\n",
       "      <td>0</td>\n",
       "      <td>https://gd.zh.ch/internet/gesundheitsdirektion...</td>\n",
       "    </tr>\n",
       "    <tr>\n",
       "      <th>4</th>\n",
       "      <td>9</td>\n",
       "      <td>2020</td>\n",
       "      <td>Canton_ZH</td>\n",
       "      <td>20-29</td>\n",
       "      <td>F</td>\n",
       "      <td>1</td>\n",
       "      <td>0</td>\n",
       "      <td>https://gd.zh.ch/internet/gesundheitsdirektion...</td>\n",
       "    </tr>\n",
       "  </tbody>\n",
       "</table>\n",
       "</div>"
      ],
      "text/plain": [
       "   Week  Year       Area AgeYearCat Gender  NewConfCases  NewDeaths  \\\n",
       "0     9  2020  Canton_ZH        0-9      F             0          0   \n",
       "1     9  2020  Canton_ZH        0-9      M             0          0   \n",
       "2     9  2020  Canton_ZH      10-19      F             0          0   \n",
       "3     9  2020  Canton_ZH      10-19      M             0          0   \n",
       "4     9  2020  Canton_ZH      20-29      F             1          0   \n",
       "\n",
       "                                              Source  \n",
       "0  https://gd.zh.ch/internet/gesundheitsdirektion...  \n",
       "1  https://gd.zh.ch/internet/gesundheitsdirektion...  \n",
       "2  https://gd.zh.ch/internet/gesundheitsdirektion...  \n",
       "3  https://gd.zh.ch/internet/gesundheitsdirektion...  \n",
       "4  https://gd.zh.ch/internet/gesundheitsdirektion...  "
      ]
     },
     "execution_count": 15,
     "metadata": {},
     "output_type": "execute_result"
    }
   ],
   "source": [
    "cases_zh_raw.head()"
   ]
  },
  {
   "cell_type": "code",
   "execution_count": 16,
   "id": "spread-domestic",
   "metadata": {},
   "outputs": [
    {
     "data": {
      "text/plain": [
       "Week            False\n",
       "Year            False\n",
       "Area            False\n",
       "AgeYearCat      False\n",
       "Gender          False\n",
       "NewConfCases    False\n",
       "NewDeaths       False\n",
       "Source          False\n",
       "dtype: bool"
      ]
     },
     "execution_count": 16,
     "metadata": {},
     "output_type": "execute_result"
    }
   ],
   "source": [
    "# check for missing values\n",
    "cases_zh_raw.isnull().any()"
   ]
  },
  {
   "cell_type": "code",
   "execution_count": 17,
   "id": "related-origin",
   "metadata": {},
   "outputs": [
    {
     "data": {
      "text/plain": [
       "Week             int64\n",
       "Year             int64\n",
       "Area            object\n",
       "AgeYearCat      object\n",
       "Gender          object\n",
       "NewConfCases     int64\n",
       "NewDeaths        int64\n",
       "Source          object\n",
       "dtype: object"
      ]
     },
     "execution_count": 17,
     "metadata": {},
     "output_type": "execute_result"
    }
   ],
   "source": [
    "# check data types\n",
    "cases_zh_raw.dtypes"
   ]
  },
  {
   "cell_type": "code",
   "execution_count": 18,
   "id": "narrow-sponsorship",
   "metadata": {},
   "outputs": [],
   "source": [
    "# group by date and repeat values for 7 days (only weekly cummulation available in dataset)\n",
    "cases_zh = cases_zh_raw.groupby(['Year','Week'], as_index = False).sum()\n",
    "cases_zh = pd.DataFrame(np.repeat(cases_zh.values,7,axis=0))\n",
    "cases_zh.columns = ['year','week','cases','deaths']"
   ]
  },
  {
   "cell_type": "code",
   "execution_count": 19,
   "id": "animal-freeware",
   "metadata": {},
   "outputs": [],
   "source": [
    "#create date array for zh cases\n",
    "date = np.arange('2020-02-24','2021-05-31',dtype = 'datetime64')"
   ]
  },
  {
   "cell_type": "code",
   "execution_count": 20,
   "id": "looking-romantic",
   "metadata": {},
   "outputs": [],
   "source": [
    "# insert date array into cases_zh and drop year and week columns\n",
    "cases_zh['date'] = date\n",
    "cases_zh.drop(columns = ['year','week'], axis = 0, inplace = True)"
   ]
  },
  {
   "cell_type": "code",
   "execution_count": 21,
   "id": "close-beauty",
   "metadata": {},
   "outputs": [],
   "source": [
    "# calculate weekly rolling average for cases\n",
    "roll_av = cases_zh.rolling(7).mean()\n",
    "cases_zh = cases_zh.assign(cases_av = roll_av['cases'])"
   ]
  },
  {
   "cell_type": "code",
   "execution_count": 22,
   "id": "cosmetic-electricity",
   "metadata": {},
   "outputs": [],
   "source": [
    "# drop some dates to align with Berlin data\n",
    "cases_zh = cases_zh[cases_zh.date > '2020-03-08'].reset_index()"
   ]
  },
  {
   "cell_type": "code",
   "execution_count": 23,
   "id": "educated-contrast",
   "metadata": {},
   "outputs": [
    {
     "data": {
      "image/png": "[encoded data removed]",
      "text/plain": [
       "<Figure size 432x288 with 1 Axes>"
      ]
     },
     "metadata": {
      "needs_background": "light"
     },
     "output_type": "display_data"
    }
   ],
   "source": [
    "plt.plot(cases_zh.date,cases_zh.cases_av);"
   ]
  }
 ],
 "metadata": {
  "kernelspec": {
   "display_name": "Python 3",
   "language": "python",
   "name": "python3"
  },
  "language_info": {
   "codemirror_mode": {
    "name": "ipython",
    "version": 3
   },
   "file_extension": ".py",
   "mimetype": "text/x-python",
   "name": "python",
   "nbconvert_exporter": "python",
   "pygments_lexer": "ipython3",
   "version": "3.8.5"
  }
 },
 "nbformat": 4,
 "nbformat_minor": 5
}
